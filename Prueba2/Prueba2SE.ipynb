{
 "cells": [
  {
   "cell_type": "code",
   "execution_count": 1,
   "metadata": {},
   "outputs": [
    {
     "name": "stdout",
     "output_type": "stream",
     "text": [
      "Ingrese el numero de sintomas que siente: \n",
      "2\n",
      "Ingrese que sintomas tiene el paciente:  \n",
      "madre tiene problemas corazon\n",
      "Ingrese que sintomas tiene el paciente:  \n",
      "incision horizontal cicatriz no visible\n",
      "\n",
      "Resultado: Se debe realizar una cesarea prevista\n",
      "Resultado: La incision debe ser de tipo transversal baja\n",
      "\n"
     ]
    }
   ],
   "source": [
    "from clips import Environment, Symbol\n",
    "\n",
    "environment = Environment()\n",
    "\n",
    "environment.load('prueba2.clp')\n",
    "\n",
    "environment.reset()\n",
    "environment.run()\n",
    "\n",
    "a=int(input(\"Ingrese el numero de sintomas que siente: \\n\"))\n",
    "\n",
    "i=0\n",
    "o=0\n",
    "u=0\n",
    "p=0\n",
    "\n",
    "for n in range (a):\n",
    "    r1= input('Ingrese que sintomas tiene el paciente:  \\n')\n",
    "    r1=r1.replace(\" \",\"-\")\n",
    "    environment.assert_string('(respuesta1 '+r1+')')\n",
    "    environment.run()\n",
    "\n",
    "print(\"\")\n",
    "\n",
    "for fact in environment.facts():\n",
    "    if fact.template.name == 'es-CesariaAntemano':\n",
    "        print('Resultado: '+'Se debe realizar una cesarea prevista')\n",
    "        i=1\n",
    "    if fact.template.name == 'es-CesariaImprovisada':\n",
    "        print('Resultado: '+'Se debe realizar una cesarea improvisada')\n",
    "        i=1\n",
    "    elif fact.template.name == 'es-IncisionUmbilica':\n",
    "        print('Resultado: '+'La incision debe ser umbilica')\n",
    "        o=1\n",
    "    elif fact.template.name == 'es-TransversalBaja':\n",
    "        print('Resultado: '+'La incision debe ser de tipo transversal baja')\n",
    "        u=1\n",
    "    elif fact.template.name == 'es-JoelCoell':\n",
    "        print('Resultado: '+'La incision debe ser de tipo Joel Coell')\n",
    "        u=1\n",
    "if(u==1 or o==1 or i==1):\n",
    "    print()\n",
    "else:\n",
    "    print(\"Sin resultados, por favor ponga otros sintomas\")"
   ]
  },
  {
   "cell_type": "code",
   "execution_count": null,
   "metadata": {},
   "outputs": [],
   "source": []
  }
 ],
 "metadata": {
  "kernelspec": {
   "display_name": "Python 3",
   "language": "python",
   "name": "python3"
  },
  "language_info": {
   "codemirror_mode": {
    "name": "ipython",
    "version": 3
   },
   "file_extension": ".py",
   "mimetype": "text/x-python",
   "name": "python",
   "nbconvert_exporter": "python",
   "pygments_lexer": "ipython3",
   "version": "3.8.5"
  }
 },
 "nbformat": 4,
 "nbformat_minor": 4
}
